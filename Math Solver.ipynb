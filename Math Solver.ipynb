{
 "cells": [
  {
   "cell_type": "code",
   "execution_count": 1,
   "id": "d7de0bf1",
   "metadata": {},
   "outputs": [],
   "source": [
    "import numpy as np \n",
    "import pandas as pd"
   ]
  },
  {
   "cell_type": "code",
   "execution_count": 2,
   "id": "048150a7",
   "metadata": {},
   "outputs": [
    {
     "data": {
      "text/html": [
       "<div>\n",
       "<style scoped>\n",
       "    .dataframe tbody tr th:only-of-type {\n",
       "        vertical-align: middle;\n",
       "    }\n",
       "\n",
       "    .dataframe tbody tr th {\n",
       "        vertical-align: top;\n",
       "    }\n",
       "\n",
       "    .dataframe thead th {\n",
       "        text-align: right;\n",
       "    }\n",
       "</style>\n",
       "<table border=\"1\" class=\"dataframe\">\n",
       "  <thead>\n",
       "    <tr style=\"text-align: right;\">\n",
       "      <th></th>\n",
       "      <th>Question</th>\n",
       "      <th>Options</th>\n",
       "      <th>Answers</th>\n",
       "      <th>Explanation</th>\n",
       "    </tr>\n",
       "  </thead>\n",
       "  <tbody>\n",
       "    <tr>\n",
       "      <th>0</th>\n",
       "      <td>The MRP of an article is 60% above its manufac...</td>\n",
       "      <td>A. 15.2% B. 14.2% C. 13% D. 12.5% E. Can't be ...</td>\n",
       "      <td>B</td>\n",
       "      <td>The manufacturer sells the product to the reta...</td>\n",
       "    </tr>\n",
       "    <tr>\n",
       "      <th>1</th>\n",
       "      <td>In an exam of 100 marks, the average marks of ...</td>\n",
       "      <td>A. 86 B. 98 C. 95 D. 92 E. None of these,</td>\n",
       "      <td>C</td>\n",
       "      <td>Total score of 40 students = 40 * 76 = 3040. T...</td>\n",
       "    </tr>\n",
       "    <tr>\n",
       "      <th>2</th>\n",
       "      <td>The perimeter of a rectangle of length 2(x + 3...</td>\n",
       "      <td>A. 728 cm² B. 896 cm² C. 1024 cm² D. 1156 cm² ...</td>\n",
       "      <td>B</td>\n",
       "      <td>Area of the square = 225 cm². Side of square =...</td>\n",
       "    </tr>\n",
       "    <tr>\n",
       "      <th>3</th>\n",
       "      <td>Rashid borrowed Rs. 15000 at the rate of 10% p...</td>\n",
       "      <td>A. 4500 B. 5500 C. 6500 D. 5800 E. None of these</td>\n",
       "      <td>B</td>\n",
       "      <td>Rs. 15000 borrowed at 10% p.a. will become Rs....</td>\n",
       "    </tr>\n",
       "    <tr>\n",
       "      <th>4</th>\n",
       "      <td>Three athletes A, B, and C start running from ...</td>\n",
       "      <td>A. 500/3 B. 1300/3 C. 700/3 D. 600 E. None of ...</td>\n",
       "      <td>D</td>\n",
       "      <td>When B started, A is ahead by 40 * 5 = 200 m. ...</td>\n",
       "    </tr>\n",
       "    <tr>\n",
       "      <th>5</th>\n",
       "      <td>The hourly wages of a mason have increased by ...</td>\n",
       "      <td>A. 124.5 B. 115.5 C. 126 D. 120 E. None of these</td>\n",
       "      <td>B</td>\n",
       "      <td>The increase in wages is 25% of Rs. 120, whic...</td>\n",
       "    </tr>\n",
       "    <tr>\n",
       "      <th>6</th>\n",
       "      <td>There are 3 green, 4 orange, and 5 white color...</td>\n",
       "      <td>A. 3/4 B. 2/3 C. 4/3 D. 2/5 E. None of these</td>\n",
       "      <td>B</td>\n",
       "      <td>Total bulbs = 3 + 4 + 5 = 12. Probability of p...</td>\n",
       "    </tr>\n",
       "    <tr>\n",
       "      <th>7</th>\n",
       "      <td>Three men Ashok, Bindusar, and Chankya investe...</td>\n",
       "      <td>A. 12000 B. 15000 C. 27000 D. 35000 E. None of...</td>\n",
       "      <td>D</td>\n",
       "      <td>Ratio of their investments = 11000 : 12000 : 1...</td>\n",
       "    </tr>\n",
       "    <tr>\n",
       "      <th>8</th>\n",
       "      <td>A boat takes 6 hours to cover 100 km downstrea...</td>\n",
       "      <td>,A. 25 and 4 B. 25 and 5 C. 30 and 10 D. 20 an...</td>\n",
       "      <td>B</td>\n",
       "      <td>Let the speed of the boat in still water be x ...</td>\n",
       "    </tr>\n",
       "    <tr>\n",
       "      <th>9</th>\n",
       "      <td>A sum of Rs. 10000 was invested in a scheme. T...</td>\n",
       "      <td>A. 8924 B. 10736  C. 12468 D. 13644 E. None of...</td>\n",
       "      <td>C</td>\n",
       "      <td>The total simple interest for three years = (1...</td>\n",
       "    </tr>\n",
       "  </tbody>\n",
       "</table>\n",
       "</div>"
      ],
      "text/plain": [
       "                                            Question  \\\n",
       "0  The MRP of an article is 60% above its manufac...   \n",
       "1  In an exam of 100 marks, the average marks of ...   \n",
       "2  The perimeter of a rectangle of length 2(x + 3...   \n",
       "3  Rashid borrowed Rs. 15000 at the rate of 10% p...   \n",
       "4  Three athletes A, B, and C start running from ...   \n",
       "5  The hourly wages of a mason have increased by ...   \n",
       "6  There are 3 green, 4 orange, and 5 white color...   \n",
       "7  Three men Ashok, Bindusar, and Chankya investe...   \n",
       "8  A boat takes 6 hours to cover 100 km downstrea...   \n",
       "9  A sum of Rs. 10000 was invested in a scheme. T...   \n",
       "\n",
       "                                             Options Answers  \\\n",
       "0  A. 15.2% B. 14.2% C. 13% D. 12.5% E. Can't be ...       B   \n",
       "1          A. 86 B. 98 C. 95 D. 92 E. None of these,       C   \n",
       "2  A. 728 cm² B. 896 cm² C. 1024 cm² D. 1156 cm² ...       B   \n",
       "3   A. 4500 B. 5500 C. 6500 D. 5800 E. None of these       B   \n",
       "4  A. 500/3 B. 1300/3 C. 700/3 D. 600 E. None of ...       D   \n",
       "5   A. 124.5 B. 115.5 C. 126 D. 120 E. None of these       B   \n",
       "6       A. 3/4 B. 2/3 C. 4/3 D. 2/5 E. None of these       B   \n",
       "7  A. 12000 B. 15000 C. 27000 D. 35000 E. None of...       D   \n",
       "8  ,A. 25 and 4 B. 25 and 5 C. 30 and 10 D. 20 an...       B   \n",
       "9  A. 8924 B. 10736  C. 12468 D. 13644 E. None of...       C   \n",
       "\n",
       "                                         Explanation  \n",
       "0  The manufacturer sells the product to the reta...  \n",
       "1  Total score of 40 students = 40 * 76 = 3040. T...  \n",
       "2  Area of the square = 225 cm². Side of square =...  \n",
       "3  Rs. 15000 borrowed at 10% p.a. will become Rs....  \n",
       "4  When B started, A is ahead by 40 * 5 = 200 m. ...  \n",
       "5   The increase in wages is 25% of Rs. 120, whic...  \n",
       "6  Total bulbs = 3 + 4 + 5 = 12. Probability of p...  \n",
       "7  Ratio of their investments = 11000 : 12000 : 1...  \n",
       "8  Let the speed of the boat in still water be x ...  \n",
       "9  The total simple interest for three years = (1...  "
      ]
     },
     "execution_count": 2,
     "metadata": {},
     "output_type": "execute_result"
    }
   ],
   "source": [
    "data= pd.read_csv(\"/Users/ojasweetasinha/Downloads/dataquant.csv\")\n",
    "data"
   ]
  },
  {
   "cell_type": "code",
   "execution_count": 3,
   "id": "cf8e01ef",
   "metadata": {},
   "outputs": [
    {
     "data": {
      "text/plain": [
       "['The MRP of an article is 60% above its manufacturing cost. The article is sold through a retailer who earns 19% profit on his purchase price. What is the approximate profit percentage for the manufacturer who sells his article to the retailer?',\n",
       " 'In an exam of 100 marks, the average marks of a class of 40 students are 76. If the top 3 scorers of the class leave, the average score falls down by 1. If the other two toppers except the highest topper scored not more than 85, then what is the minimum score the topper can score?',\n",
       " 'The perimeter of a rectangle of length 2(x + 3) cm and breadth 2(x + 1) cm is double the perimeter of a square of area 225 cm². Find the area of the rectangle.',\n",
       " 'Rashid borrowed Rs. 15000 at the rate of 10% p.a. compound interest, compounded annually. He repaid a certain amount at the end of the first year. Then he paid Rs. 12100 at the end of the 2nd year to completely discharge the loan. What amount did he repay at the end of the 1st year?',\n",
       " \"Three athletes A, B, and C start running from the same point. A's speed is 40 m/min, B's speed is 50 m/min, and C's speed is 60 m/min. What distance has C covered (in m) when he catches A?\",\n",
       " 'The hourly wages of a mason have increased by 25%. Since the increase, the number of hours he works daily has reduced by 16%. If he was earning Rs. 120 per day before the increase, how much (in Rs.) is he earning now?',\n",
       " 'There are 3 green, 4 orange, and 5 white color bulbs in a bag. If a bulb is picked at random, what is the probability of having either a green or a white bulb?',\n",
       " 'Three men Ashok, Bindusar, and Chankya invested Rs. 11000, Rs. 12000, and Rs. 17000 in a partnership business for a year. After a year, they got a return of Rs. 100000. If they decide to divide the amount on the basis of their shares of investment, then what amount will Chankya receive more than Ashok?',\n",
       " 'A boat takes 6 hours to cover 100 km downstream and 30 km upstream. If the boat goes 75 km downstream and returns back to its starting point in 8 hours, what is the speed of the boat in still water and the rate of the stream (in kmph) respectively?',\n",
       " 'A sum of Rs. 10000 was invested in a scheme. The rate of simple interest offered for three years was 6%, 9%, and 5% per annum respectively. After three years, the whole amount was withdrawn and reinvested in a scheme which offered an interest rate of 20% compounded annually for 3 years. What is the total interest earned during the six-year period?']"
      ]
     },
     "execution_count": 3,
     "metadata": {},
     "output_type": "execute_result"
    }
   ],
   "source": [
    "# Extract the 'Question' column\n",
    "\n",
    "questions = data['Question'].tolist()\n",
    "questions"
   ]
  },
  {
   "cell_type": "code",
   "execution_count": 4,
   "id": "70fd0044",
   "metadata": {},
   "outputs": [
    {
     "data": {
      "text/plain": [
       "['The MRP of an article is 60% above its manufacturing cost. The article is sold through a retailer who earns 19% profit on his purchase price. What is the approximate profit percentage for the manufacturer who sells his article to the retailer?',\n",
       " 'In an exam of 100 marks, the average marks of a class of 40 students are 76. If the top 3 scorers of the class leave, the average score falls down by 1. If the other two toppers except the highest topper scored not more than 85, then what is the minimum score the topper can score?',\n",
       " 'The perimeter of a rectangle of length 2(x + 3) cm and breadth 2(x + 1) cm is double the perimeter of a square of area 225 cm². Find the area of the rectangle.',\n",
       " 'Rashid borrowed Rs. 15000 at the rate of 10% p.a. compound interest, compounded annually. He repaid a certain amount at the end of the first year. Then he paid Rs. 12100 at the end of the 2nd year to completely discharge the loan. What amount did he repay at the end of the 1st year?',\n",
       " \"Three athletes A, B, and C start running from the same point. A's speed is 40 m/min, B's speed is 50 m/min, and C's speed is 60 m/min. What distance has C covered (in m) when he catches A?\",\n",
       " 'The hourly wages of a mason have increased by 25%. Since the increase, the number of hours he works daily has reduced by 16%. If he was earning Rs. 120 per day before the increase, how much (in Rs.) is he earning now?',\n",
       " 'There are 3 green, 4 orange, and 5 white color bulbs in a bag. If a bulb is picked at random, what is the probability of having either a green or a white bulb?',\n",
       " 'Three men Ashok, Bindusar, and Chankya invested Rs. 11000, Rs. 12000, and Rs. 17000 in a partnership business for a year. After a year, they got a return of Rs. 100000. If they decide to divide the amount on the basis of their shares of investment, then what amount will Chankya receive more than Ashok?',\n",
       " 'A boat takes 6 hours to cover 100 km downstream and 30 km upstream. If the boat goes 75 km downstream and returns back to its starting point in 8 hours, what is the speed of the boat in still water and the rate of the stream (in kmph) respectively?',\n",
       " 'A sum of Rs. 10000 was invested in a scheme. The rate of simple interest offered for three years was 6%, 9%, and 5% per annum respectively. After three years, the whole amount was withdrawn and reinvested in a scheme which offered an interest rate of 20% compounded annually for 3 years. What is the total interest earned during the six-year period?']"
      ]
     },
     "execution_count": 4,
     "metadata": {},
     "output_type": "execute_result"
    }
   ],
   "source": [
    "# Clean up each question by removing extra spaces\n",
    "cleaned_questions = [question.strip() for question in questions]\n",
    "cleaned_questions"
   ]
  },
  {
   "cell_type": "code",
   "execution_count": 5,
   "id": "ce6dafd3",
   "metadata": {},
   "outputs": [
    {
     "name": "stdout",
     "output_type": "stream",
     "text": [
      "The MRP of an article is 60% above its manufacturing cost. The article is sold through a retailer who earns 19% profit on his purchase price. What is the approximate profit percentage for the manufacturer who sells his article to the retailer?\n",
      "In an exam of 100 marks, the average marks of a class of 40 students are 76. If the top 3 scorers of the class leave, the average score falls down by 1. If the other two toppers except the highest topper scored not more than 85, then what is the minimum score the topper can score?\n",
      "The perimeter of a rectangle of length 2(x + 3) cm and breadth 2(x + 1) cm is double the perimeter of a square of area 225 cm². Find the area of the rectangle.\n",
      "Rashid borrowed Rs. 15000 at the rate of 10% p.a. compound interest, compounded annually. He repaid a certain amount at the end of the first year. Then he paid Rs. 12100 at the end of the 2nd year to completely discharge the loan. What amount did he repay at the end of the 1st year?\n",
      "Three athletes A, B, and C start running from the same point. A's speed is 40 m/min, B's speed is 50 m/min, and C's speed is 60 m/min. What distance has C covered (in m) when he catches A?\n"
     ]
    }
   ],
   "source": [
    "# Count how many questions we have\n",
    "total_questions = len(cleaned_questions)\n",
    "\n",
    "# Print the first few questions to get an idea\n",
    "for i in range(5):\n",
    "    print(cleaned_questions[i])\n"
   ]
  },
  {
   "cell_type": "code",
   "execution_count": 6,
   "id": "09464f8c",
   "metadata": {},
   "outputs": [],
   "source": [
    "# Let's create groups of questions based on their topics\n",
    "question_groups = {\n",
    "    \"Profit\": [],\n",
    "    \"Area\": [],\n",
    "    \"Interest\": [],\n",
    "    \"Distance\": [],\n",
    "    \"Other\": []\n",
    "}\n",
    "\n",
    "# Sort questions into groups based on keywords\n",
    "for question in cleaned_questions:\n",
    "    if \"profit\" in question.lower() or \"retailer\" in question.lower():\n",
    "        question_groups[\"Profit\"].append(question)\n",
    "    elif \"area\" in question.lower() or \"perimeter\" in question.lower():\n",
    "        question_groups[\"Area\"].append(question)\n",
    "    elif \"interest\" in question.lower() or \"borrowed\" in question.lower():\n",
    "        question_groups[\"Interest\"].append(question)\n",
    "    elif \"distance\" in question.lower() or \"catches\" in question.lower():\n",
    "        question_groups[\"Distance\"].append(question)\n",
    "    else:\n",
    "        # If none of the keywords match, you can put them in a default category\n",
    "        question_groups[\"Other\"].append(question)\n",
    "\n"
   ]
  },
  {
   "cell_type": "code",
   "execution_count": 7,
   "id": "c9039706",
   "metadata": {},
   "outputs": [],
   "source": [
    "# Import required libraries\n",
    "import tensorflow as tf\n",
    "from transformers import TFAutoModelForQuestionAnswering, AutoTokenizer\n"
   ]
  },
  {
   "cell_type": "code",
   "execution_count": 8,
   "id": "25a2fe9c",
   "metadata": {},
   "outputs": [
    {
     "name": "stderr",
     "output_type": "stream",
     "text": [
      "All PyTorch model weights were used when initializing TFBertForQuestionAnswering.\n",
      "\n",
      "Some weights or buffers of the TF 2.0 model TFBertForQuestionAnswering were not initialized from the PyTorch model and are newly initialized: ['qa_outputs.weight', 'qa_outputs.bias']\n",
      "You should probably TRAIN this model on a down-stream task to be able to use it for predictions and inference.\n"
     ]
    }
   ],
   "source": [
    "# Load the transformer-based model and tokenizer\n",
    "model = TFAutoModelForQuestionAnswering.from_pretrained('bert-base-uncased')\n",
    "tokenizer = AutoTokenizer.from_pretrained('bert-base-uncased')\n"
   ]
  },
  {
   "cell_type": "code",
   "execution_count": 9,
   "id": "1f6abfa7",
   "metadata": {},
   "outputs": [],
   "source": [
    "\n",
    "# Define a function to predict answers from questions\n",
    "def get_answer(question, context):\n",
    "    input_text = f\"question: {question} context: {context}\"\n",
    "    inputs = tokenizer(input_text, return_tensors='tf')\n",
    "    outputs = model(**inputs)\n",
    "    start_scores = outputs.start_logits\n",
    "    end_scores = outputs.end_logits\n",
    "    answer_start = tf.argmax(start_scores, axis=1).numpy()[0]\n",
    "    answer_end = tf.argmax(end_scores, axis=1).numpy()[0] + 1\n",
    "    answer = tokenizer.convert_tokens_to_string(tokenizer.convert_ids_to_tokens(inputs[\"input_ids\"][0][answer_start:answer_end]))\n",
    "    return answer"
   ]
  },
  {
   "cell_type": "code",
   "execution_count": 10,
   "id": "8284784c",
   "metadata": {},
   "outputs": [
    {
     "name": "stdout",
     "output_type": "stream",
     "text": [
      "Question: What is the profit percentage for the manufacturer?\n",
      "Predicted Answer: ? context : the mrp of an article is 60 % above its manufacturing cost... [SEP]\n"
     ]
    }
   ],
   "source": [
    "# Example usage\n",
    "sample_question = \"What is the profit percentage for the manufacturer?\"\n",
    "context = \"The MRP of an article is 60% above its manufacturing cost...\"\n",
    "answer = get_answer(sample_question, context)\n",
    "print(\"Question:\", sample_question)\n",
    "print(\"Predicted Answer:\", answer)"
   ]
  },
  {
   "cell_type": "code",
   "execution_count": 11,
   "id": "a019dc2b",
   "metadata": {},
   "outputs": [
    {
     "name": "stdout",
     "output_type": "stream",
     "text": [
      "Welcome to the Banking Aspirant Chatbot!\n",
      "Ask a question (or type 'exit' to quit): What is the profit percentage for the manufacturer?\n",
      "Answer: ? context : your relevant context here [SEP]\n",
      "Ask a question (or type 'exit' to quit): what is the profile perfecntage when sp is 600 and cp is 500.\n",
      "Answer: \n",
      "Ask a question (or type 'exit' to quit): exit\n",
      "Goodbye!\n"
     ]
    }
   ],
   "source": [
    "def chatbot():\n",
    "    print(\"Welcome to the Banking Aspirant Chatbot!\")\n",
    "    \n",
    "    while True:\n",
    "        user_question = input(\"Ask a question (or type 'exit' to quit): \")\n",
    "        if user_question.lower() == \"exit\":\n",
    "            print(\"Goodbye!\")\n",
    "            break\n",
    "        \n",
    "        # Provide a context related to the question (can be left empty)\n",
    "        context = \"Your relevant context here\"\n",
    "        \n",
    "        answer = get_answer(user_question, context)\n",
    "        print(\"Answer:\", answer)\n",
    "\n",
    "if __name__ == \"__main__\":\n",
    "    chatbot()\n"
   ]
  },
  {
   "cell_type": "code",
   "execution_count": null,
   "id": "07ecb449",
   "metadata": {},
   "outputs": [],
   "source": []
  }
 ],
 "metadata": {
  "kernelspec": {
   "display_name": "Python 3 (ipykernel)",
   "language": "python",
   "name": "python3"
  },
  "language_info": {
   "codemirror_mode": {
    "name": "ipython",
    "version": 3
   },
   "file_extension": ".py",
   "mimetype": "text/x-python",
   "name": "python",
   "nbconvert_exporter": "python",
   "pygments_lexer": "ipython3",
   "version": "3.10.9"
  }
 },
 "nbformat": 4,
 "nbformat_minor": 5
}
